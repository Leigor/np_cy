{
 "cells": [
  {
   "cell_type": "markdown",
   "metadata": {
    "colab_type": "text",
    "id": "snOzwidLaNOT"
   },
   "source": [
    "# Cython: C made painless"
   ]
  },
  {
   "cell_type": "markdown",
   "metadata": {
    "colab_type": "text",
    "id": "5dxjVMopaNOW"
   },
   "source": [
    "* Python: fast development, slow execution\n",
    "\n",
    "* C/C++/Fortran: slow development, fast execution"
   ]
  },
  {
   "cell_type": "markdown",
   "metadata": {
    "colab_type": "text",
    "id": "9VmiL-KNaNOX"
   },
   "source": [
    "## Why is Python execution slow: \n",
    "\n",
    "It's all too dynamic.\n",
    "\n",
    "* Runtime interprets the bytecode.\n",
    "\n",
    "* Everything is an object (boxing/unboxing)\n",
    "\n",
    "* Function calls are expensive\n",
    "\n",
    "* Global interpreter lock (GIL)"
   ]
  },
  {
   "cell_type": "markdown",
   "metadata": {
    "colab_type": "text",
    "id": "5bnds24saNOZ"
   },
   "source": [
    "Python has well defined C API. Can use that for moving computationally expensive parts to compiled code: *C extensions*.\n",
    "\n",
    "Example: numpy, scipy, scikit-learn, lxml, Sage, ZeroMQ, ..."
   ]
  },
  {
   "cell_type": "markdown",
   "metadata": {
    "colab_type": "text",
    "id": "K6GARlLgaNOa"
   },
   "source": [
    "### Human user $\\Longleftrightarrow$ Python runtime $\\Longleftrightarrow$ C extensions.\n",
    "\n",
    "The idea is to keep user interface, database, web, visualization etc etc in Python."
   ]
  },
  {
   "cell_type": "markdown",
   "metadata": {
    "colab_type": "text",
    "id": "xbFn4UliaNOc"
   },
   "source": [
    "Writing C extensions manually can be daunting. (All pleasures of manual memory management, *plus* reference counting, parsing python arguments etc). \n",
    "\n",
    "https://docs.python.org/3.5/c-api/\n",
    "\n",
    "E.g. Paul Ross's http://pythonextensionpatterns.readthedocs.io/en/latest/index.html"
   ]
  },
  {
   "cell_type": "markdown",
   "metadata": {
    "colab_type": "text",
    "id": "H7Pf2pR2aNOe"
   },
   "source": [
    "## Enter Cython"
   ]
  },
  {
   "cell_type": "markdown",
   "metadata": {
    "colab_type": "text",
    "id": "zWVYCQHAaNOf"
   },
   "source": [
    "Cython (http://cython.org) is a static compiler from a superset of Python to C (or C++).\n",
    "\n",
    "### Human user $\\Longleftrightarrow$ Python runtime $\\Longleftrightarrow$ Cython $\\Longleftrightarrow$ a C extension.\n",
    "\n",
    "\n",
    "If you already have a C/C++/Fortran code, expose it to Python by *wrapping* it in Cython.\n",
    "\n",
    "Otherwise, \n",
    "\n",
    "1. build a prototype in pure python, \n",
    "2. profile to identify hotspots,\n",
    "3. move hotspots to Cython,\n",
    "4. Profit!"
   ]
  },
  {
   "cell_type": "markdown",
   "metadata": {
    "colab_type": "text",
    "id": "H3DLoXE7aNOg"
   },
   "source": [
    "Perks:\n",
    "\n",
    "* First-class NumPy support\n",
    "* Can use the C++ standard library\n",
    "* Parallelism: can release the GIL"
   ]
  },
  {
   "cell_type": "markdown",
   "metadata": {
    "colab_type": "text",
    "id": "EDiE42-EaNOh"
   },
   "source": [
    "## A worked example of Cythonizing a computation\n",
    "\n",
    "Shamelessly stolen from Pauli Virtanen, *Cython tutorial*,\n",
    "https://python.g-node.org/python-summerschool-2011/_media/materials/cython/cython-slides.pdf\n",
    "\n",
    "Consider a planet orbiting a star.\n",
    "\n",
    "Need to solve a second-order ODE:\n",
    "\n",
    "\n",
    "$$\n",
    "\\begin{align}\n",
    "\\frac{d\\mathbf{x}}{dt} &= \\mathbf{v} \\;,\\\\\n",
    "\\frac{d\\mathbf{v}}{dt} &= \\frac{\\mathbf{F(\\mathbf{x})}}{m} \\;.\n",
    "\\end{align}\n",
    "$$\n",
    "\n",
    "Note that solving an ODE cannot be vectorized, hence NumPy is of no help.\n",
    "\n",
    "For the sake of example, only use the Euler method."
   ]
  },
  {
   "cell_type": "code",
   "execution_count": null,
   "metadata": {
    "colab": {},
    "colab_type": "code",
    "collapsed": true,
    "id": "4D7IyraUaNOo"
   },
   "outputs": [],
   "source": [
    "import numpy as np"
   ]
  },
  {
   "cell_type": "code",
   "execution_count": null,
   "metadata": {
    "colab": {},
    "colab_type": "code",
    "collapsed": true,
    "id": "ayVR4gCZaNOx"
   },
   "outputs": [],
   "source": [
    "%load_ext cython"
   ]
  },
  {
   "cell_type": "code",
   "execution_count": null,
   "metadata": {
    "colab": {},
    "colab_type": "code",
    "collapsed": true,
    "id": "9e0klETqaNO3"
   },
   "outputs": [],
   "source": [
    "from math import sqrt\n",
    "\n",
    "class Planet(object):\n",
    "    \"\"\"A class to store a planet's position and velocity.\"\"\"\n",
    "    def __init__(self):\n",
    "        self.x = 1.0\n",
    "        self.y = 0\n",
    "        self.z = 0\n",
    "        self.vx = 0\n",
    "        self.vy = 0\n",
    "        self.vz = 1.0\n",
    "        \n",
    "        self.m = 1.0\n",
    "        \n",
    "\n",
    "def single_step(planet, dt):\n",
    "    \"\"\"Make a single step in time, t -> t+dt.\"\"\"\n",
    "    \n",
    "    # Gravitational force pulls towards origin\n",
    "    r = sqrt(planet.x**2 + planet.y**2 + planet.z**2)\n",
    "    r3 = r**3\n",
    "    \n",
    "    Fx = -planet.x / r3\n",
    "    Fy = -planet.y / r3\n",
    "    Fz = -planet.z / r3\n",
    "    \n",
    "    # update position\n",
    "    planet.x += planet.vx * dt\n",
    "    planet.y += planet.vy * dt\n",
    "    planet.z += planet.vz * dt\n",
    "    \n",
    "    # update velocity\n",
    "    m = planet.m\n",
    "    planet.vx += Fx * dt / m\n",
    "    planet.vy += Fy * dt / m\n",
    "    planet.vz += Fz * dt / m\n",
    "\n",
    "\n",
    "def propagate(planet, time_span, num_steps):\n",
    "    \"\"\"Make a number of time steps.\"\"\"\n",
    "    dt = time_span / num_steps\n",
    "    \n",
    "    for _ in range(num_steps):\n",
    "        single_step(planet, dt)"
   ]
  },
  {
   "cell_type": "code",
   "execution_count": null,
   "metadata": {
    "colab": {
     "base_uri": "https://localhost:8080/",
     "height": 35
    },
    "colab_type": "code",
    "id": "EbHWszQmaNO-",
    "outputId": "9d0e1d33-abc8-4bd1-df0a-d737c1a16cf4"
   },
   "outputs": [],
   "source": [
    "planet = Planet()\n",
    "%timeit propagate(planet, 1, 1000)"
   ]
  },
  {
   "cell_type": "markdown",
   "metadata": {
    "colab_type": "text",
    "id": "ArVAzgmMaNPG"
   },
   "source": [
    "## Compile the program to Cython\n",
    "\n",
    "Every python program is a valid cython program"
   ]
  },
  {
   "cell_type": "code",
   "execution_count": null,
   "metadata": {
    "colab": {
     "base_uri": "https://localhost:8080/",
     "height": 1000
    },
    "colab_type": "code",
    "id": "ebCaPGBxaNPI",
    "outputId": "36218c16-0783-4a36-d242-9466c3788916"
   },
   "outputs": [],
   "source": [
    "%%cython -a\n",
    "# -a is for \"annotate\"\n",
    "\n",
    "from math import sqrt\n",
    "\n",
    "class Planet(object):\n",
    "    def __init__(self):\n",
    "        self.x = 1.0\n",
    "        self.y = 0\n",
    "        self.z = 0\n",
    "        self.vx = 0\n",
    "        self.vy = 0\n",
    "        self.vz = 1.0\n",
    "        \n",
    "        self.m = 1.0\n",
    "        \n",
    "\n",
    "def single_step(planet, dt):\n",
    "    \"\"\"Make a single step in time, t -> t+dt.\"\"\"\n",
    "    \n",
    "    # Gravitational force pulls towards origin\n",
    "    r = sqrt(planet.x**2 + planet.y**2 + planet.z**2)\n",
    "    r3 = r**3\n",
    "    \n",
    "    Fx = -planet.x / r3\n",
    "    Fy = -planet.y / r3\n",
    "    Fz = -planet.z / r3\n",
    "    \n",
    "    # update position\n",
    "    planet.x += planet.vx * dt\n",
    "    planet.y += planet.vy * dt\n",
    "    planet.z += planet.vz * dt\n",
    "    \n",
    "    # update velocity\n",
    "    m = planet.m\n",
    "    planet.vx += Fx * dt / m\n",
    "    planet.vy += Fy * dt / m\n",
    "    planet.vz += Fz * dt / m\n",
    "\n",
    "\n",
    "def propagate(planet, time_span, num_steps):\n",
    "    \"\"\"Make a number of time steps.\"\"\"\n",
    "    dt = time_span / num_steps\n",
    "    \n",
    "    for _ in range(num_steps):\n",
    "        single_step(planet, dt)"
   ]
  },
  {
   "cell_type": "code",
   "execution_count": null,
   "metadata": {
    "colab": {
     "base_uri": "https://localhost:8080/",
     "height": 35
    },
    "colab_type": "code",
    "id": "X3b8iG4_aNPR",
    "outputId": "5c59d33a-7534-4d7c-d485-d8fb71aaad4a"
   },
   "outputs": [],
   "source": [
    "planet = Planet()\n",
    "%timeit propagate(planet, 1, 100)"
   ]
  },
  {
   "cell_type": "code",
   "execution_count": null,
   "metadata": {
    "colab": {
     "base_uri": "https://localhost:8080/",
     "height": 35
    },
    "colab_type": "code",
    "id": "HMvaG_hfaNPa",
    "outputId": "885586d2-1d08-4bfc-a94e-14cb761716a0"
   },
   "outputs": [],
   "source": [
    "141 / 101"
   ]
  },
  {
   "cell_type": "markdown",
   "metadata": {
    "colab_type": "text",
    "id": "Zcyvyb_WaNPi"
   },
   "source": [
    "Simply compiling the whole program only gives some 25%. Not worth it usually."
   ]
  },
  {
   "cell_type": "markdown",
   "metadata": {
    "colab_type": "text",
    "id": "ufFq6M7DaNPj"
   },
   "source": [
    "### Throw in some static typing"
   ]
  },
  {
   "cell_type": "code",
   "execution_count": null,
   "metadata": {
    "colab": {
     "base_uri": "https://localhost:8080/",
     "height": 393
    },
    "colab_type": "code",
    "id": "XnDYJJZXaNPl",
    "outputId": "979f0c34-7a90-4202-a685-220b30579e2b"
   },
   "outputs": [],
   "source": [
    "%%cython -a\n",
    "\n",
    "from __main__ import single_step\n",
    "\n",
    "def propagate(planet,\n",
    "              double time_span,              # NB: C double, C int\n",
    "              int num_steps):\n",
    "    \"\"\"Make a number of time steps.\"\"\"\n",
    "\n",
    "    cdef double dt = time_span / num_steps    # NB: cdef ctype variable\n",
    "    cdef int j\n",
    "    \n",
    "    for j in range(num_steps):\n",
    "        single_step(planet, dt)"
   ]
  },
  {
   "cell_type": "markdown",
   "metadata": {
    "colab_type": "text",
    "id": "i_JNQPxKaNPt"
   },
   "source": [
    "Notice that the loop has been compiled to the C loop.\n",
    "\n",
    "The division is guarded for division-by-zero. We can switch the checks off and request the C semantics for the division."
   ]
  },
  {
   "cell_type": "code",
   "execution_count": null,
   "metadata": {
    "colab": {
     "base_uri": "https://localhost:8080/",
     "height": 359
    },
    "colab_type": "code",
    "id": "x49vBh3ZaNPu",
    "outputId": "c3512d7f-c573-45c5-a897-97100a9eb39c"
   },
   "outputs": [],
   "source": [
    "%%cython -a\n",
    "\n",
    "from __main__ import single_step\n",
    "\n",
    "cimport cython\n",
    "\n",
    "@cython.cdivision(True)                  # NB: decorator. Other useful decorators: wraparound, boundscheck\n",
    "def propagate(planet,\n",
    "              double time_span,\n",
    "              int num_steps):\n",
    "    \"\"\"Make a number of time steps.\"\"\"\n",
    "\n",
    "    cdef double dt = time_span / num_steps\n",
    "    cdef int j\n",
    "    \n",
    "    for j in range(num_steps):\n",
    "        single_step(planet, dt)"
   ]
  },
  {
   "cell_type": "markdown",
   "metadata": {
    "colab_type": "text",
    "id": "yTmbrCHLaNQF"
   },
   "source": [
    "#### Now `single_step` is the bottleneck\n",
    "\n",
    "`single_step` has lots of python overhead because of looking up attributes on a Python object `planet`. Move the Planet class to cython "
   ]
  },
  {
   "cell_type": "code",
   "execution_count": null,
   "metadata": {
    "colab": {
     "base_uri": "https://localhost:8080/",
     "height": 1000
    },
    "colab_type": "code",
    "id": "s4hblAGqaNQG",
    "outputId": "641a5f3d-a172-421e-bf84-a75453ef0bd4"
   },
   "outputs": [],
   "source": [
    "%%cython -a\n",
    "\n",
    "from math import sqrt\n",
    "\n",
    "cimport cython\n",
    "\n",
    "\n",
    "cdef class Planet(object):                       # NB: cdef class\n",
    "    cdef public double x, y, z, vx, vy, vz, m    # NB: cdef public double\n",
    "                                                 #     here \"public\" means they are accessible from python\n",
    "    def __init__(self):\n",
    "        self.x = 1.0\n",
    "        self.y = 0\n",
    "        self.z = 0\n",
    "        self.vx = 0\n",
    "        self.vy = 0\n",
    "        self.vz = 1.0\n",
    "        \n",
    "        self.m = 1.0\n",
    "\n",
    "\n",
    "@cython.cdivision(True)\n",
    "def single_step(Planet planet not None,          # NB type the planet parameter\n",
    "                double dt):\n",
    "    \"\"\"Make a single step in time, t -> t+dt.\"\"\"\n",
    "    # Gravitational force pulls towards origin\n",
    "    cdef double r, r3                            # NB statically type scalars\n",
    "    r = sqrt(planet.x**2 + planet.y**2 + planet.z**2)\n",
    "    r3 = r**3\n",
    "    \n",
    "    Fx = -planet.x / r3\n",
    "    Fy = -planet.y / r3\n",
    "    Fz = -planet.z / r3\n",
    "    \n",
    "    # update position\n",
    "    planet.x += planet.vx * dt\n",
    "    planet.y += planet.vy * dt\n",
    "    planet.z += planet.vz * dt\n",
    "    \n",
    "    # update velocity\n",
    "    m = planet.m\n",
    "    planet.vx += Fx * dt / m\n",
    "    planet.vy += Fy * dt / m\n",
    "    planet.vz += Fz * dt / m\n",
    "\n",
    "\n",
    "@cython.cdivision(True)\n",
    "def propagate(planet,\n",
    "              double time_span,\n",
    "              int num_steps):\n",
    "    \"\"\"Make a number of time steps.\"\"\"\n",
    "\n",
    "    cdef double dt = time_span / num_steps\n",
    "    cdef int j\n",
    "    \n",
    "    for j in range(num_steps):\n",
    "        single_step(planet, dt)"
   ]
  },
  {
   "cell_type": "code",
   "execution_count": null,
   "metadata": {
    "colab": {
     "base_uri": "https://localhost:8080/",
     "height": 35
    },
    "colab_type": "code",
    "id": "byj4vkeJaNQM",
    "outputId": "86bd9cd6-7b6e-42b1-bb62-7e97a180dbed"
   },
   "outputs": [],
   "source": [
    "planet = Planet()\n",
    "%timeit propagate(planet, 1, 100)"
   ]
  },
  {
   "cell_type": "markdown",
   "metadata": {
    "colab_type": "text",
    "id": "R3cXvHCQaNQR"
   },
   "source": [
    "Now, \n",
    "\n",
    "1. Use `sqrt` from C library `math.h`\n",
    "2. Make `single_step` a `cdef` function (i.e. C only, not available from Python space)\n",
    "\n",
    "\n",
    "* `def foo(x):` is a python function\n",
    "* `cdef double foo(double x):` is a C only function, not available from Python space\n",
    "* `cpdef double foo(double x):` is both a fast C function and a slow Python function.\n",
    "\n",
    "If no type is specified, the default is `object`, i.e. untyped Python objects"
   ]
  },
  {
   "cell_type": "code",
   "execution_count": null,
   "metadata": {
    "colab": {
     "base_uri": "https://localhost:8080/",
     "height": 1000
    },
    "colab_type": "code",
    "id": "x8E0kBYwaNQS",
    "outputId": "61a2c57d-b314-466d-90ea-c6c2fda86199"
   },
   "outputs": [],
   "source": [
    "%%cython -a\n",
    "\n",
    "from libc.math cimport sqrt                         # use the Cython wrapper over math.h\n",
    "\n",
    "cimport cython\n",
    "\n",
    "\n",
    "cdef class Planet(object):\n",
    "    cdef public double x, y, z, vx, vy, vz, m\n",
    "    def __init__(self):\n",
    "        self.x = 1.0\n",
    "        self.y = 0\n",
    "        self.z = 0\n",
    "        self.vx = 0\n",
    "        self.vy = 0\n",
    "        self.vz = 1.0\n",
    "        \n",
    "        self.m = 1.0\n",
    "\n",
    "\n",
    "@cython.cdivision(True)\n",
    "cdef void single_step(Planet planet,          # NB: cdef void, also Planet planet\n",
    "                      double dt):\n",
    "    \"\"\"Make a single step in time, t -> t+dt.\"\"\"\n",
    "    # Gravitational force pulls towards origin\n",
    "    cdef double r, r3\n",
    "    r = sqrt(planet.x**2 + planet.y**2 + planet.z**2)\n",
    "    r3 = r**3                             # XXX: check the generated C code\n",
    "    \n",
    "    Fx = -planet.x / r3\n",
    "    Fy = -planet.y / r3\n",
    "    Fz = -planet.z / r3\n",
    "    \n",
    "    # update position\n",
    "    planet.x += planet.vx * dt\n",
    "    planet.y += planet.vy * dt\n",
    "    planet.z += planet.vz * dt\n",
    "    \n",
    "    # update velocity\n",
    "    m = planet.m\n",
    "    planet.vx += Fx * dt / m\n",
    "    planet.vy += Fy * dt / m\n",
    "    planet.vz += Fz * dt / m\n",
    "\n",
    "\n",
    "@cython.cdivision(True)\n",
    "def propagate(planet,\n",
    "              double time_span,\n",
    "              int num_steps):\n",
    "    \"\"\"Make a number of time steps.\"\"\"\n",
    "\n",
    "    cdef double dt = time_span / num_steps\n",
    "    cdef int j\n",
    "    \n",
    "    for j in range(num_steps):\n",
    "        single_step(planet, dt)"
   ]
  },
  {
   "cell_type": "code",
   "execution_count": null,
   "metadata": {
    "colab": {
     "base_uri": "https://localhost:8080/",
     "height": 35
    },
    "colab_type": "code",
    "id": "5i_F052daNQb",
    "outputId": "abdccceb-2923-449d-8a18-92c60be2903a"
   },
   "outputs": [],
   "source": [
    "planet = Planet()\n",
    "%timeit propagate(planet, 1, 100)"
   ]
  },
  {
   "cell_type": "markdown",
   "metadata": {
    "colab_type": "text",
    "id": "G-QEBtDTaNQh"
   },
   "source": [
    "Now check the generated C code for `r3 = r**3`. C `pow` function can be *slow*. Let's replace `r**3` by `r*r*r`: "
   ]
  },
  {
   "cell_type": "code",
   "execution_count": null,
   "metadata": {
    "colab": {
     "base_uri": "https://localhost:8080/",
     "height": 1000
    },
    "colab_type": "code",
    "id": "LfrG9ZxFaNQi",
    "outputId": "be877c82-4a39-402a-93b3-db88186572e2"
   },
   "outputs": [],
   "source": [
    "%%cython -a\n",
    "\n",
    "from libc.math cimport sqrt\n",
    "\n",
    "cimport cython\n",
    "\n",
    "\n",
    "cdef class Planet(object):\n",
    "    cdef public double x, y, z, vx, vy, vz, m\n",
    "    def __init__(self):\n",
    "        self.x = 1.0\n",
    "        self.y = 0\n",
    "        self.z = 0\n",
    "        self.vx = 0\n",
    "        self.vy = 0\n",
    "        self.vz = 1.0\n",
    "        \n",
    "        self.m = 1.0\n",
    "\n",
    "\n",
    "@cython.cdivision(True)\n",
    "cdef void single_step(Planet planet,\n",
    "                      double dt) nogil:\n",
    "    \"\"\"Make a single step in time, t -> t+dt.\"\"\"\n",
    "    # Gravitational force pulls towards origin\n",
    "    cdef double r, r3\n",
    "    r = sqrt(planet.x**2 + planet.y**2 + planet.z**2)\n",
    "    r3 = r*r*r                             # XXX: check generated C code\n",
    "    \n",
    "    Fx = -planet.x / r3\n",
    "    Fy = -planet.y / r3\n",
    "    Fz = -planet.z / r3\n",
    "    \n",
    "    # update position\n",
    "    planet.x += planet.vx * dt\n",
    "    planet.y += planet.vy * dt\n",
    "    planet.z += planet.vz * dt\n",
    "    \n",
    "    # update velocity\n",
    "    m = planet.m\n",
    "    planet.vx += Fx * dt / m\n",
    "    planet.vy += Fy * dt / m\n",
    "    planet.vz += Fz * dt / m\n",
    "\n",
    "\n",
    "@cython.cdivision(True)\n",
    "def propagate(planet,\n",
    "              double time_span,\n",
    "              int num_steps):\n",
    "    \"\"\"Make a number of time steps.\"\"\"\n",
    "\n",
    "    cdef double dt = time_span / num_steps\n",
    "    cdef int j\n",
    "    \n",
    "    for j in range(num_steps):\n",
    "        single_step(planet, dt)"
   ]
  },
  {
   "cell_type": "code",
   "execution_count": null,
   "metadata": {
    "colab": {},
    "colab_type": "code",
    "collapsed": true,
    "id": "2XGWK4zfap0s"
   },
   "outputs": [],
   "source": []
  },
  {
   "cell_type": "code",
   "execution_count": null,
   "metadata": {
    "colab": {
     "base_uri": "https://localhost:8080/",
     "height": 35
    },
    "colab_type": "code",
    "id": "VkK0BCTYaNQn",
    "outputId": "8d2e821b-2b26-48c7-de8f-1e81929d383a"
   },
   "outputs": [],
   "source": [
    "planet = Planet()\n",
    "%timeit propagate(planet, 1, 100)"
   ]
  },
  {
   "cell_type": "code",
   "execution_count": null,
   "metadata": {
    "colab": {},
    "colab_type": "code",
    "id": "zS1v2sTZaNQs",
    "outputId": "93df5ad4-c422-45ac-d6a1-00e43a17d4a5"
   },
   "outputs": [],
   "source": [
    "312 / 3.5"
   ]
  },
  {
   "cell_type": "markdown",
   "metadata": {
    "colab_type": "text",
    "id": "A-w5h0l0aNQw"
   },
   "source": [
    "Alternatively, can ask the compiler to do such transformations, via compiler flags e.g., for gcc it's `-O3 -ffast-math`.\n"
   ]
  },
  {
   "cell_type": "markdown",
   "metadata": {
    "colab_type": "text",
    "id": "hCIHht7iaNQx"
   },
   "source": [
    "## Additional language features\n",
    "\n",
    "* Typed memoryview syntax: access data in NumPy arrays, C arrays or `std::vector`s.\n",
    "* Basic templating: fused types.\n",
    "* Release the GIL: `cdef ... nogil` functions, `with nogil` blocks.\n",
    "* Basic parallelism with OpenMP: `prange` loops.\n",
    "* Translating C++ exceptions into Python exceptions automatically."
   ]
  },
  {
   "cell_type": "markdown",
   "metadata": {
    "colab_type": "text",
    "id": "qyxsWvd3aNQy"
   },
   "source": [
    "## Further reading\n",
    "\n",
    "* Documentation: http://docs.cython.org/en/latest/\n",
    "* Pauli Virtanen, *Cython tutorial*, 2011, https://python.g-node.org/python-summerschool-2011/_media/materials/cython/cython-slides.pdf\n",
    "* Stefan van der Walt, *Speeding up scientific Python code using Cython*, https://github.com/stefanv/teaching/blob/master/2013_assp_zurich_cython/slides/zurich2012_cython.pdf\n",
    "* Paul Ross, *Musings on Cython*, http://notes-on-cython.readthedocs.io/en/latest/index.html\n",
    "* Kurt W Smith, *Cython: A Guide for Python Programmers*, O'Reilly 2015\n",
    "* Stefan Behnel, *Get Native with Cython*, EuroPython 2014, https://www.youtube.com/watch?v=DXmblsdcsHw (50 mins);\n",
    "  EuroSciPy 2015, https://www.youtube.com/watch?v=GmxZfZjEjZo (3 hrs).\n",
    "  \n",
    "There is also a cython-users mailing list."
   ]
  },
  {
   "cell_type": "markdown",
   "metadata": {
    "colab_type": "text",
    "id": "2uEvy-aQaNQy"
   },
   "source": [
    "### A pain point for Windows users\n",
    "\n",
    "Trying to compile a C extension fails with *\"... unable to find vcvarsall.bat\"*.\n",
    "\n",
    "See https://blogs.msdn.microsoft.com/pythonengineering/2016/04/11/unable-to-find-vcvarsall-bat/\n",
    "\n",
    "Long story short: for python >= 3.5 (recommended!), you need to have Visual Studio 2015 or VS 2015 SDK. "
   ]
  },
  {
   "cell_type": "markdown",
   "metadata": {
    "colab_type": "text",
    "id": "ru12zwoz1pLD"
   },
   "source": [
    "# Numba"
   ]
  },
  {
   "cell_type": "code",
   "execution_count": 2,
   "metadata": {
    "colab": {},
    "colab_type": "code",
    "id": "YNoHhIvYaNQz"
   },
   "outputs": [
    {
     "name": "stderr",
     "output_type": "stream",
     "text": [
      "<ipython-input-2-4e4497141970>:16: NumbaDeprecationWarning: The 'numba.jitclass' decorator has moved to 'numba.experimental.jitclass' to better reflect the experimental nature of the functionality. Please update your imports to accommodate this change and see http://numba.pydata.org/numba-doc/latest/reference/deprecation.html#change-of-jitclass-location for the time frame.\n",
      "  @numba.jitclass(spec)\n"
     ]
    }
   ],
   "source": [
    "\n",
    "#https://numba.pydata.org/numba-doc/latest/user/jitclass.html\n",
    "\n",
    "import numba\n",
    "from numba import float64\n",
    "\n",
    "spec = [\n",
    "    ('x', float64),\n",
    "    ('y', float64),\n",
    "    ('z', float64),\n",
    "    ('vx', float64),\n",
    "    ('vy', float64),\n",
    "    ('vz', float64),\n",
    "    ('m', float64),\n",
    "]\n",
    "\n",
    "@numba.jitclass(spec)\n",
    "class Planet(object):\n",
    "    \"\"\"A class to store a planet's position and velocity.\"\"\"\n",
    "    def __init__(self):\n",
    "        self.x = 1.0\n",
    "        self.y = 0\n",
    "        self.z = 0\n",
    "        self.vx = 0\n",
    "        self.vy = 0\n",
    "        self.vz = 1.0\n",
    "        \n",
    "        self.m = 1.0"
   ]
  },
  {
   "cell_type": "code",
   "execution_count": 6,
   "metadata": {
    "colab": {},
    "colab_type": "code",
    "id": "p4VsDI301xBe"
   },
   "outputs": [],
   "source": [
    "from math import sqrt\n",
    "\n",
    "@numba.jit(nopython=True)\n",
    "def numba_single_step(planet, dt):\n",
    "    \"\"\"Make a single step in time, t -> t+dt.\"\"\"\n",
    "    \n",
    "    # Gravitational force pulls towards origin\n",
    "    r = sqrt(planet.x**2 + planet.y**2 + planet.z**2)\n",
    "    r3 = r**3\n",
    "    \n",
    "    Fx = -planet.x / r3\n",
    "    Fy = -planet.y / r3\n",
    "    Fz = -planet.z / r3\n",
    "    \n",
    "    # update position\n",
    "    planet.x += planet.vx * dt\n",
    "    planet.y += planet.vy * dt\n",
    "    planet.z += planet.vz * dt\n",
    "    \n",
    "    # update velocity\n",
    "    m = planet.m\n",
    "    planet.vx += Fx * dt / m\n",
    "    planet.vy += Fy * dt / m\n",
    "    planet.vz += Fz * dt / m\n",
    "\n",
    "\n",
    "@numba.jit(nopython=True)\n",
    "def numba_propagate(planet, time_span, num_steps):\n",
    "    \"\"\"Make a number of time steps.\"\"\"\n",
    "    dt = time_span / num_steps\n",
    "    \n",
    "    for _ in range(num_steps):\n",
    "        numba_single_step(planet, dt)"
   ]
  },
  {
   "cell_type": "code",
   "execution_count": 7,
   "metadata": {
    "colab": {
     "base_uri": "https://localhost:8080/",
     "height": 35
    },
    "colab_type": "code",
    "id": "eTkCgec_1znc",
    "outputId": "aa843c31-f815-4a1a-aa7f-c08f8fa4278a"
   },
   "outputs": [
    {
     "name": "stdout",
     "output_type": "stream",
     "text": [
      "36.6 µs ± 5.03 µs per loop (mean ± std. dev. of 7 runs, 1 loop each)\n"
     ]
    }
   ],
   "source": [
    "planet1 = Planet()\n",
    "%timeit numba_propagate(planet1, 1, 1000)"
   ]
  },
  {
   "cell_type": "code",
   "execution_count": null,
   "metadata": {
    "colab": {},
    "colab_type": "code",
    "collapsed": true,
    "id": "5OBJHgMw17yE"
   },
   "outputs": [],
   "source": []
  }
 ],
 "metadata": {
  "colab": {
   "collapsed_sections": [],
   "name": "cython_simple_demo.ipynb",
   "provenance": []
  },
  "kernelspec": {
   "display_name": "Python 3",
   "language": "python",
   "name": "python3"
  },
  "language_info": {
   "codemirror_mode": {
    "name": "ipython",
    "version": 3
   },
   "file_extension": ".py",
   "mimetype": "text/x-python",
   "name": "python",
   "nbconvert_exporter": "python",
   "pygments_lexer": "ipython3",
   "version": "3.8.3"
  }
 },
 "nbformat": 4,
 "nbformat_minor": 1
}
